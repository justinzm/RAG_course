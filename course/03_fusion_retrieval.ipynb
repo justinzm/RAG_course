{
 "cells": [
  {
   "cell_type": "markdown",
   "metadata": {},
   "source": [
    "# 融合检索\n",
    "\n",
    "本文介绍的代码实现了一个融合检索系统，它结合了基于向量的相似性搜索和基于关键词的BM25检索。这种方法旨在利用两种方法的优势，提高文档检索的整体质量和相关性。让搜索结果更加精准。\n",
    "\n",
    "传统的检索方法通常依赖于语义理解（基于向量）或关键词匹配（BM25）。每种方法都有其优点和缺点。融合检索旨在结合这些方法，创建一个更稳健、更准确的检索系统，有效处理更广泛的查询。\n",
    "\n",
    "## 关键步骤\n",
    "* 文档处理与文本分块：将文档转换为文本，并将其分割成有重叠的块，每块都带有索引标签。\n",
    "* 向量存储创建：使用Minimax的嵌入技术为这些文本块创建向量表示，并用Qdrant构建向量存储。\n",
    "* 创建BM25索引：为关键词搜索创建索引，以实现快速检索。\n",
    "* 自定义融合检索功能：结合向量和关键词搜索方法，实现更全面的检索。\n",
    "\n",
    "## 优势\n",
    "* 提高检索质量：系统能够同时捕捉概念相似性和关键词匹配，提供更准确的搜索结果。\n",
    "* 灵活性：通过调整alpha参数，可以根据不同的查询需求平衡向量和关键词搜索的权重。\n",
    "* 稳健性：结合两种方法，可以处理更广泛的查询，减少单一方法的不足。\n",
    "* 可定制性：系统可以根据需要轻松更换向量存储或关键词检索方法。"
   ]
  },
  {
   "cell_type": "markdown",
   "metadata": {},
   "source": [
    "首先，我们需要导入一些Python库，并从环境变量文件中加载必要的配置。"
   ]
  },
  {
   "cell_type": "code",
   "execution_count": 28,
   "metadata": {},
   "outputs": [],
   "source": [
    "import os\n",
    "from dotenv import load_dotenv\n",
    "load_dotenv()\n",
    "\n",
    "os.environ[\"MINIMAX_GROUP_ID\"] = os.getenv(\"MINIMAX_GROUP_ID\")\n",
    "os.environ[\"MINIMAX_API_KEY\"] = os.getenv(\"MINIMAX_API_KEY\")\n",
    "\n",
    "from typing import List\n",
    "from tools import show_context\n",
    "import numpy as np\n",
    "from rank_bm25 import BM25Okapi\n",
    "\n",
    "from langchain_core.documents import Document\n",
    "from langchain_qdrant import QdrantVectorStore\n",
    "from langchain_community.embeddings import MiniMaxEmbeddings\n",
    "from langchain_community.document_loaders import Docx2txtLoader\n",
    "from langchain_text_splitters import RecursiveCharacterTextSplitter"
   ]
  },
  {
   "cell_type": "markdown",
   "metadata": {},
   "source": [
    "#### 第一步：加载文档并提取文档内容\n",
    "使用Docx2txtLoader类加载文档，这个类需要docx2txt库支持。"
   ]
  },
  {
   "cell_type": "code",
   "execution_count": 3,
   "metadata": {},
   "outputs": [],
   "source": [
    "path = \"../data/二十届三中全会.docx\"\n",
    "loader = Docx2txtLoader(path)\n",
    "documents = loader.load()"
   ]
  },
  {
   "cell_type": "markdown",
   "metadata": {},
   "source": [
    "#### 第二步：文本分块\n",
    "将文本切割成小块"
   ]
  },
  {
   "cell_type": "code",
   "execution_count": 4,
   "metadata": {},
   "outputs": [],
   "source": [
    "text_splitter = RecursiveCharacterTextSplitter(\n",
    "    chunk_size=500,\n",
    "    chunk_overlap=100,\n",
    "    length_function=len\n",
    ")\n",
    "docs = text_splitter.split_documents(documents)\n",
    "chunk_count = len(docs)"
   ]
  },
  {
   "cell_type": "markdown",
   "metadata": {},
   "source": [
    "#### 第三步：创建向量数据库\n",
    "使用MiniMaxEmbeddings和QdrantVectorStore创建向量表示，并存储在本地的Qdrant数据库中。"
   ]
  },
  {
   "cell_type": "code",
   "execution_count": 5,
   "metadata": {},
   "outputs": [],
   "source": [
    "embeddings = MiniMaxEmbeddings()\n",
    "vectorstore = QdrantVectorStore.from_documents(\n",
    "    docs,\n",
    "    embeddings,\n",
    "    url=\"http://localhost:6333/\",\n",
    "    prefer_grpc=True,\n",
    "    collection_name=\"003\"\n",
    ")"
   ]
  },
  {
   "cell_type": "markdown",
   "metadata": {},
   "source": [
    "\n",
    "#### 第四步：创建BM25索引\n",
    "使用文本块创建BM25索引，以实现基于关键词的快速检索。"
   ]
  },
  {
   "cell_type": "code",
   "execution_count": 16,
   "metadata": {},
   "outputs": [],
   "source": [
    "def create_bm25_index(documents: List[Document]) -> BM25Okapi:\n",
    "    tokenized_docs = [doc.page_content.split() for doc in documents]\n",
    "    return BM25Okapi(tokenized_docs)\n",
    "\n",
    "for doc in docs:\n",
    "    doc.page_content = doc.page_content.replace('\\t', ' ') \n",
    "\n",
    "bm25 = create_bm25_index(docs) "
   ]
  },
  {
   "cell_type": "markdown",
   "metadata": {},
   "source": [
    "#### 第五步：定义融合检索函数\n",
    "该函数结合了向量搜索和BM25搜索的结果，通过归一化和加权组合得分，返回最相关的文档。"
   ]
  },
  {
   "cell_type": "code",
   "execution_count": 18,
   "metadata": {},
   "outputs": [],
   "source": [
    "def fusion_retrieval(vectorstore, bm25, query: str, chunk_count: int, k: int = 5, alpha: float = 0.5) -> List[Document]:\n",
    "    # Step 1: 从vectorstore中获取所有文档\n",
    "    all_docs = vectorstore.similarity_search(\"\", k=chunk_count)\n",
    "\n",
    "    # Step 2: 获取查询的BM25分数\n",
    "    bm25_scores = bm25.get_scores(query.split())\n",
    "\n",
    "    # Step 3: 使用向量搜索获取相关文档及其分数\n",
    "    vector_results = vectorstore.similarity_search_with_score(query, k=chunk_count)\n",
    "\n",
    "    # Step 4: 归一化分数\n",
    "    vector_scores = np.array([score for _, score in vector_results])\n",
    "    vector_scores = 1 - (vector_scores - np.min(vector_scores)) / (np.max(vector_scores) - np.min(vector_scores))\n",
    "\n",
    "    bm25_scores = (bm25_scores - np.min(bm25_scores)) / (np.max(bm25_scores) - np.min(bm25_scores))\n",
    "\n",
    "    # Step 5: 结合分数\n",
    "    combined_scores = alpha * vector_scores + (1 - alpha) * bm25_scores\n",
    "\n",
    "    # Step 6: 排序文档\n",
    "    sorted_indices = np.argsort(combined_scores)[::-1]\n",
    "\n",
    "    # Step 7: 返回前k个文档\n",
    "    return [all_docs[i] for i in sorted_indices[:k]]"
   ]
  },
  {
   "cell_type": "markdown",
   "metadata": {},
   "source": [
    "最后，我们使用定义好的融合检索函数，根据用户查询返回最相关的文档。"
   ]
  },
  {
   "cell_type": "code",
   "execution_count": 29,
   "metadata": {},
   "outputs": [
    {
     "name": "stdout",
     "output_type": "stream",
     "text": [
      "Context 1:\n",
      "（35）健全公正执法司法体制机制。健全监察机关、公安机关、检察机关、审判机关、司法行政机关各司其职，监察权、侦查权、检察权、审判权、执行权相互配合、相互制约的体制机制，确保执法司法各环节全过程在有效制约监督下运行。深化审判权和执行权分离改革，健全国家执行体制，强化当事人、检察机关和社会公众对执行活动的全程监督。完善执法司法救济保护制度，完善国家赔偿制度。深化和规范司法公开，落实和完善司法责任制。规范专门法院设置。深化行政案件级别管辖、集中管辖、异地管辖改革。构建协同高效的警务体制机制，推进地方公安机关机构编制管理改革，继续推进民航公安机关和海关缉私部门管理体制改革。规范警务辅助人员管理制度。\n",
      "\n",
      "坚持正确人权观，加强人权执法司法保障，完善事前审查、事中监督、事后纠正等工作机制，完善涉及公民人身权利强制措施以及查封、扣押、冻结等强制措施的制度，依法查处利用职权徇私枉法、非法拘禁、刑讯逼供等犯罪行为。推进刑事案件律师辩护全覆盖。建立轻微犯罪记录封存制度。\n",
      "\n",
      "\n",
      "Context 2:\n",
      "（56）深化跨军地改革。健全一体化国家战略体系和能力建设工作机制，完善涉军决策议事协调体制机制。健全国防建设军事需求提报和军地对接机制，完善国防动员体系。深化国防科技工业体制改革，优化国防科技工业布局，改进武器装备采购制度，建立军品设计回报机制，构建武器装备现代化管理体系。完善军地标准化工作统筹机制。加强航天、军贸等领域建设和管理统筹。优化边海防领导管理体制机制，完善党政军警民合力治边机制。深化民兵制度改革。完善双拥工作机制。\n",
      "\n",
      "十五、提高党对进一步全面深化改革、推进中国式现代化的领导水平\n",
      "\n",
      "党的领导是进一步全面深化改革、推进中国式现代化的根本保证。必须深刻领悟“两个确立”的决定性意义，增强“四个意识”、坚定“四个自信”、做到“两个维护”，保持以党的自我革命引领社会革命的高度自觉，坚持用改革精神和严的标准管党治党，完善党的自我革命制度规范体系，不断推进党的自我净化、自我完善、自我革新、自我提高，确保党始终成为中国特色社会主义事业的坚强领导核心。\n",
      "\n",
      "\n",
      "Context 3:\n",
      "（2）进一步全面深化改革的指导思想。坚持马克思列宁主义、毛泽东思想、邓小平理论、“三个代表”重要思想、科学发展观，全面贯彻习近平新时代中国特色社会主义思想，深入学习贯彻习近平总书记关于全面深化改革的一系列新思想、新观点、新论断，完整准确全面贯彻新发展理念，坚持稳中求进工作总基调，坚持解放思想、实事求是、与时俱进、求真务实，进一步解放和发展社会生产力、激发和增强社会活力，统筹国内国际两个大局，统筹推进“五位一体”总体布局，协调推进“四个全面”战略布局，以经济体制改革为牵引，以促进社会公平正义、增进人民福祉为出发点和落脚点，更加注重系统集成，更加注重突出重点，更加注重改革实效，推动生产关系和生产力、上层建筑和经济基础、国家治理和社会发展更好相适应，为中国式现代化提供强大动力和制度保障。\n",
      "\n",
      "（3）进一步全面深化改革的总目标。继续完善和发展中国特色社会主义制度，推进国家治理体系和治理能力现代化。到二〇三五年，全面建成高水平社会主义市场经济体制，中国特色社会主义制度更加完善，基本实现国家治理体系和治理能力现代化，基本实现社会主义现代化，为到本世纪中叶全面建成社会主义现代化强国奠定坚实基础。\n",
      "\n",
      "\n",
      "Context 4:\n",
      "（36）完善推进法治社会建设机制。健全覆盖城乡的公共法律服务体系，深化律师制度、公证体制、仲裁制度、调解制度、司法鉴定管理体制改革。改进法治宣传教育，完善以实践为导向的法学院校教育培养机制。加强和改进未成年人权益保护，强化未成年人犯罪预防和治理，制定专门矫治教育规定。\n",
      "\n",
      "（37）加强涉外法治建设。建立一体推进涉外立法、执法、司法、守法和法律服务、法治人才培养的工作机制。完善涉外法律法规体系和法治实施体系，深化执法司法国际合作。完善涉外民事法律关系中当事人依法约定管辖、选择适用域外法等司法审判制度。健全国际商事仲裁和调解制度，培育国际一流仲裁机构、律师事务所。积极参与国际规则制定。\n",
      "\n",
      "十、深化文化体制机制改革\n",
      "\n",
      "中国式现代化是物质文明和精神文明相协调的现代化。必须增强文化自信，发展社会主义先进文化，弘扬革命文化，传承中华优秀传统文化，加快适应信息技术迅猛发展新形势，培育形成规模宏大的优秀文化人才队伍，激发全民族文化创新创造活力。\n",
      "\n",
      "\n",
      "Context 5:\n",
      "（10）完善发展服务业体制机制。完善支持服务业发展政策体系，优化服务业核算，推进服务业标准化建设。聚焦重点环节分领域推进生产性服务业高质量发展，发展产业互联网平台，破除跨地区经营行政壁垒，推进生产性服务业融合发展。健全加快生活性服务业多样化发展机制。完善中介服务机构法规制度体系，促进中介服务机构诚实守信、依法履责。\n",
      "\n",
      "（11）健全现代化基础设施建设体制机制。构建新型基础设施规划和标准体系，健全新型基础设施融合利用机制，推进传统基础设施数字化改造，拓宽多元化投融资渠道，健全重大基础设施建设协调机制。深化综合交通运输体系改革，推进铁路体制改革，发展通用航空和低空经济，推动收费公路政策优化。提高航运保险承保能力和全球服务水平，推进海事仲裁制度规则创新。健全重大水利工程建设、运行、管理机制。\n",
      "\n",
      "\n"
     ]
    },
    {
     "name": "stderr",
     "output_type": "stream",
     "text": [
      "C:\\Users\\39077\\AppData\\Local\\Temp\\ipykernel_4860\\106719400.py:15: RuntimeWarning: invalid value encountered in divide\n",
      "  bm25_scores = (bm25_scores - np.min(bm25_scores)) / (np.max(bm25_scores) - np.min(bm25_scores))\n"
     ]
    }
   ],
   "source": [
    "query = \"深化财税体制改革\"\n",
    "\n",
    "top_docs = fusion_retrieval(vectorstore, bm25, query, chunk_count, k=5, alpha=0.5)\n",
    "docs_content = [doc.page_content for doc in top_docs]\n",
    "show_context(docs_content)"
   ]
  }
 ],
 "metadata": {
  "kernelspec": {
   "display_name": ".venv",
   "language": "python",
   "name": "python3"
  },
  "language_info": {
   "codemirror_mode": {
    "name": "ipython",
    "version": 3
   },
   "file_extension": ".py",
   "mimetype": "text/x-python",
   "name": "python",
   "nbconvert_exporter": "python",
   "pygments_lexer": "ipython3",
   "version": "3.11.9"
  }
 },
 "nbformat": 4,
 "nbformat_minor": 2
}
