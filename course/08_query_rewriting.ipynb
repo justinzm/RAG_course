{
 "cells": [
  {
   "cell_type": "markdown",
   "metadata": {},
   "source": [
    "# 查询语句转换技术 -- 查询重写\n",
    "\n",
    "在技术的世界里，有时候我们会遇到信息检索的挑战。为了让搜索结果更加精准，我们可以利用语言大模型来优化我们的查询语句。这种方法不仅能够让我们的搜索更加具体，还能从不同的角度出发，提高我们获取信息的质量和深度。\n",
    "\n",
    "首先，我们需要一个模板来指导我们的重写过程。这个模板会告诉我们如何将原始的查询语句变得更加详细和具体。通过这样的重写，我们不仅能够保留原始查询的意图，还能够增加新的视角，从而提升搜索结果的相关性。"
   ]
  },
  {
   "cell_type": "code",
   "execution_count": 3,
   "metadata": {},
   "outputs": [],
   "source": [
    "import os\n",
    "from dotenv import load_dotenv\n",
    "load_dotenv()\n",
    "\n",
    "os.environ[\"MINIMAX_GROUP_ID\"] = os.getenv(\"MINIMAX_GROUP_ID\")\n",
    "os.environ[\"MINIMAX_API_KEY\"] = os.getenv(\"MINIMAX_API_KEY\")\n",
    "\n",
    "from langchain_community.chat_models import MiniMaxChat\n",
    "from langchain.prompts import PromptTemplate"
   ]
  },
  {
   "cell_type": "code",
   "execution_count": 4,
   "metadata": {},
   "outputs": [],
   "source": [
    "llm = MiniMaxChat(model=\"abab6.5s-chat\")\n",
    "\n",
    "query_rewrite_template = \"\"\"\n",
    "You are an AI assistant tasked with reformulating user queries to improve retrieval in a RAG system. \n",
    "Given the original query, rewrite it to be more specific, detailed, and likely to retrieve relevant information.\n",
    "\n",
    "Original query: {original_query}\n",
    "\n",
    "Rewritten query:\n",
    "\"\"\"\n",
    "\n",
    "query_rewrite_prompt = PromptTemplate(\n",
    "    input_variables=[\"original_query\"],\n",
    "    template=query_rewrite_template\n",
    ")\n",
    "\n",
    "query_rewriter = query_rewrite_prompt | llm"
   ]
  },
  {
   "cell_type": "code",
   "execution_count": 5,
   "metadata": {},
   "outputs": [],
   "source": [
    "def rewrite_query(original_query):\n",
    "    response = query_rewriter.invoke(original_query)\n",
    "    return response.content"
   ]
  },
  {
   "cell_type": "code",
   "execution_count": 7,
   "metadata": {},
   "outputs": [
    {
     "name": "stdout",
     "output_type": "stream",
     "text": [
      "Original query: 电信副卡能通过线上自助销户吗？\n",
      "\n",
      "Rewritten query: 考虑到电信副卡的销户流程，用户可能需要具体的操作指引，因此可以将原查询改进为包含更具体操作步骤和渠道的查询：\n",
      "\n",
      "\"电信公司的副卡用户能否通过该公司的官方网站或移动应用程序进行自助销户操作？如果可以，需要遵循哪些具体步骤和注意事项？\"\n"
     ]
    }
   ],
   "source": [
    "original_query = \"电信副卡能通过线上自助销户吗？\"\n",
    "rewritten_query = rewrite_query(original_query)\n",
    "print(\"Original query:\", original_query)\n",
    "print(\"\\nRewritten query:\", rewritten_query)"
   ]
  }
 ],
 "metadata": {
  "kernelspec": {
   "display_name": ".venv",
   "language": "python",
   "name": "python3"
  },
  "language_info": {
   "codemirror_mode": {
    "name": "ipython",
    "version": 3
   },
   "file_extension": ".py",
   "mimetype": "text/x-python",
   "name": "python",
   "nbconvert_exporter": "python",
   "pygments_lexer": "ipython3",
   "version": "3.11.9"
  }
 },
 "nbformat": 4,
 "nbformat_minor": 2
}
