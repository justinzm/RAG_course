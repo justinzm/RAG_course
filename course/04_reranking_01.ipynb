{
 "cells": [
  {
   "cell_type": "markdown",
   "metadata": {},
   "source": [
    "# 智能重新排序 -- 使用大模型对每个检索到的块的相关性进行评分\n",
    "\n",
    "智能重新排序的目的是帮助我们从海量文档中快速找到最相关的信息。它就像是给文档们排个队，让最有用的信息排在最前面。\n",
    "\n",
    "### 工作原理\n",
    "在RAG系统中，我们通常会先找到一些可能相关的文档，但这些文档的相关性可能不够精确。智能重新排序就是对这些文档进行再次评估，找出真正和我们的需求紧密相关的文档。\n",
    "\n",
    "### 重排系统通常包括以下步骤：\n",
    "- 初始检索器：使用向量搜索技术，找到一些可能相关的文档。\n",
    "- 评分机制：给这些文档打分，看看它们和我们的需求有多匹配。\n",
    "- 排序和选择逻辑：根据分数重新排序这些文档，挑选出最相关的几个。"
   ]
  },
  {
   "cell_type": "markdown",
   "metadata": {},
   "source": [
    "首先，我们需要导入一些Python库，并从环境变量文件中加载必要的配置。"
   ]
  },
  {
   "cell_type": "code",
   "execution_count": 1,
   "metadata": {},
   "outputs": [
    {
     "ename": "",
     "evalue": "",
     "output_type": "error",
     "traceback": [
      "\u001b[1;31m在当前单元格或上一个单元格中执行代码时 Kernel 崩溃。\n",
      "\u001b[1;31m请查看单元格中的代码，以确定故障的可能原因。\n",
      "\u001b[1;31m单击<a href='https://aka.ms/vscodeJupyterKernelCrash'>此处</a>了解详细信息。\n",
      "\u001b[1;31m有关更多详细信息，请查看 Jupyter <a href='command:jupyter.viewOutput'>log</a>。"
     ]
    }
   ],
   "source": [
    "import os\n",
    "from dotenv import load_dotenv\n",
    "load_dotenv()\n",
    "\n",
    "os.environ[\"MINIMAX_GROUP_ID\"] = os.getenv(\"MINIMAX_GROUP_ID\")\n",
    "os.environ[\"MINIMAX_API_KEY\"] = os.getenv(\"MINIMAX_API_KEY\")\n",
    "\n",
    "from typing import List, Dict, Any, Tuple\n",
    "from pydantic.v1 import BaseModel, Field\n",
    "\n",
    "from langchain_core.documents import Document\n",
    "from langchain_core.prompts import PromptTemplate\n",
    "from langchain_qdrant import QdrantVectorStore\n",
    "from langchain_openai import ChatOpenAI\n",
    "from langchain_community.chat_models import MiniMaxChat\n",
    "from langchain_community.embeddings import MiniMaxEmbeddings\n",
    "from langchain_community.document_loaders import Docx2txtLoader\n",
    "from langchain_text_splitters import RecursiveCharacterTextSplitter"
   ]
  },
  {
   "cell_type": "markdown",
   "metadata": {},
   "source": [
    "#### 第一步：加载文档并提取文档内容\n",
    "使用Docx2txtLoader类加载文档，这个类需要docx2txt库支持。"
   ]
  },
  {
   "cell_type": "code",
   "execution_count": 6,
   "metadata": {},
   "outputs": [],
   "source": [
    "path = \"../data/二十届三中全会.docx\"\n",
    "loader = Docx2txtLoader(path)\n",
    "documents = loader.load()"
   ]
  },
  {
   "cell_type": "markdown",
   "metadata": {},
   "source": [
    "#### 第二步：文本分块\n",
    "将文本切割成小块"
   ]
  },
  {
   "cell_type": "code",
   "execution_count": 7,
   "metadata": {},
   "outputs": [],
   "source": [
    "text_splitter = RecursiveCharacterTextSplitter(\n",
    "    chunk_size=500,\n",
    "    chunk_overlap=100,\n",
    "    length_function=len\n",
    ")\n",
    "docs = text_splitter.split_documents(documents)\n",
    "for doc in docs:\n",
    "    doc.page_content = doc.page_content.replace('\\t', ' ') "
   ]
  },
  {
   "cell_type": "markdown",
   "metadata": {},
   "source": [
    "#### 第三步：创建向量数据库\n",
    "使用MiniMaxEmbeddings和QdrantVectorStore创建向量表示，并存储在本地的Qdrant数据库中。"
   ]
  },
  {
   "cell_type": "code",
   "execution_count": 8,
   "metadata": {},
   "outputs": [],
   "source": [
    "embeddings = MiniMaxEmbeddings()\n",
    "vectorstore = QdrantVectorStore.from_documents(\n",
    "    docs,\n",
    "    embeddings,\n",
    "    url=\"http://localhost:6333/\",\n",
    "    prefer_grpc=True,\n",
    "    collection_name=\"004\"\n",
    ")"
   ]
  },
  {
   "cell_type": "markdown",
   "metadata": {},
   "source": [
    "#### 第四步：创建重排系统\n",
    "创建一个重排系统，使用大模型来评估文档的相关性，并返回最相关的文档。"
   ]
  },
  {
   "cell_type": "code",
   "execution_count": 9,
   "metadata": {},
   "outputs": [],
   "source": [
    "class RatingScore(BaseModel):\n",
    "    relevance_score: float = Field(..., description=\"文档与提问的相关性得分\")"
   ]
  },
  {
   "cell_type": "code",
   "execution_count": 10,
   "metadata": {},
   "outputs": [],
   "source": [
    "def rerank_documents(query: str, docs: List[Document], top_n: int = 3) -> List[Document]:\n",
    "    template = \"\"\"\n",
    "        在1-10的范围内，对以下文档与提问的相关性进行评分。考虑提问的特定上下文和目的，而不仅仅是关键字匹配。\n",
    "        提问:{query}\n",
    "        文档:{doc}\n",
    "        相关性得分:\n",
    "    \"\"\"\n",
    "    prompt_template = PromptTemplate(\n",
    "        input_variables=[\"query\", \"doc\"],\n",
    "        template=template\n",
    "    )\n",
    "\n",
    "    llm = ChatOpenAI(\n",
    "        temperature=0,\n",
    "        model=\"gpt-4o\",\n",
    "        openai_api_key=os.getenv(\"OPENAI_API_KEY\"),\n",
    "    )\n",
    "    llm_chain = prompt_template | llm.with_structured_output(RatingScore)\n",
    "\n",
    "    scored_docs = []\n",
    "    for doc in docs:\n",
    "        input_data = {\"query\": query, \"doc\": doc.page_content}\n",
    "        try:\n",
    "            score = llm_chain.invoke(input_data)\n",
    "            score = score.relevance_score\n",
    "            score = float(score)\n",
    "        except ValueError:\n",
    "            score = 0  # 失败默认为0\n",
    "        scored_docs.append((doc, score))\n",
    "    \n",
    "    reranked_docs = sorted(scored_docs, key=lambda x: x[1], reverse=True)\n",
    "    return [doc for doc, _ in reranked_docs[:top_n]]"
   ]
  },
  {
   "cell_type": "markdown",
   "metadata": {},
   "source": [
    "#### 执行输出结果\n",
    "最后，我们用一个实际的问题来测试我们的系统，看看它是否能够找到最相关的文档。"
   ]
  },
  {
   "cell_type": "code",
   "execution_count": 15,
   "metadata": {},
   "outputs": [
    {
     "name": "stdout",
     "output_type": "stream",
     "text": [
      "得分: 9.0\n",
      "得分: 2.0\n",
      "得分: 2.0\n",
      "得分: 3.0\n",
      "得分: 3.0\n",
      "得分: 2.0\n",
      "得分: 3.0\n",
      "得分: 3.0\n",
      "得分: 2.0\n",
      "得分: 2.0\n",
      "得分: 2.0\n",
      "得分: 3.0\n",
      "得分: 2.0\n",
      "得分: 2.0\n",
      "得分: 2.0\n",
      "Top initial documents:\n",
      "\n",
      "Document 1:\n",
      "（29）加强人民当家作主制度建设。坚持好、完善好、运行好人民代表大会制度。健全人大对行政机关、监察机关、审判机关、检察机关监督制度，完善监督法及其实施机制，强化人大预算决算审查监督和国有资产管理、政府债务管理监督。健全人大议事规则和论证、评估、评议、听证制度。丰富人大代表联系人民群众的内容和形式。健全吸纳民意、汇集民智工作机制。发挥工会、共青团、妇联等群团组织联系服务群众的桥梁纽带作用。\n",
      "\n",
      "（30...\n",
      "\n",
      "Document 2:\n",
      "（33）深化立法领域改革。完善以宪法为核心的中国特色社会主义法律体系，健全保证宪法全面实施制度体系，建立宪法实施情况报告制度。完善党委领导、人大主导、政府依托、各方参与的立法工作格局。统筹立改废释纂，加强重点领域、新兴领域、涉外领域立法，完善合宪性审查、备案审查制度，提高立法质量。探索区域协同立法。健全党内法规同国家法律法规衔接协调机制。建设全国统一的法律法规和规范性文件信息平台。\n",
      "\n",
      "（34）深入...\n",
      "\n",
      "Document 3:\n",
      "以习近平同志为核心的党中央团结带领全党全军全国各族人民，以伟大的历史主动、巨大的政治勇气、强烈的责任担当，冲破思想观念束缚，突破利益固化藩篱，敢于突进深水区，敢于啃硬骨头，敢于涉险滩，坚决破除各方面体制机制弊端，实现改革由局部探索、破冰突围到系统集成、全面深化的转变，各领域基础性制度框架基本建立，许多领域实现历史性变革、系统性重塑、整体性重构，总体完成党的十八届三中全会确定的改革任务，实现到党成立...\n",
      "Query: 什么是健全协商民主机制?\n",
      "\n",
      "Top reranked documents:\n",
      "\n",
      "Document 1:\n",
      "（29）加强人民当家作主制度建设。坚持好、完善好、运行好人民代表大会制度。健全人大对行政机关、监察机关、审判机关、检察机关监督制度，完善监督法及其实施机制，强化人大预算决算审查监督和国有资产管理、政府债务管理监督。健全人大议事规则和论证、评估、评议、听证制度。丰富人大代表联系人民群众的内容和形式。健全吸纳民意、汇集民智工作机制。发挥工会、共青团、妇联等群团组织联系服务群众的桥梁纽带作用。\n",
      "\n",
      "（30...\n",
      "\n",
      "Document 2:\n",
      "（52）健全社会治理体系。坚持和发展新时代“枫桥经验”，健全党组织领导的自治、法治、德治相结合的城乡基层治理体系，完善共建共治共享的社会治理制度。探索建立全国统一的人口管理制度。健全社会工作体制机制，加强党建引领基层治理，加强社会工作者队伍建设，推动志愿服务体系建设。推进信访工作法治化。提高市域社会治理能力，强化市民热线等公共服务平台功能，健全“高效办成一件事”重点事项清单管理机制和常态化推进机制...\n",
      "\n",
      "Document 3:\n",
      "（57）坚持党中央对进一步全面深化改革的集中统一领导。党中央领导改革的总体设计、统筹协调、整体推进。完善党中央重大决策部署落实机制，确保党中央令行禁止。各级党委（党组）负责落实党中央决策部署，谋划推进本地区本部门改革，鼓励结合实际开拓创新，创造可复制、可推广的新鲜经验。走好新时代党的群众路线，把社会期盼、群众智慧、专家意见、基层经验充分吸收到改革设计中来。围绕解决突出矛盾设置改革议题，优化重点改革...\n"
     ]
    }
   ],
   "source": [
    "query = \"什么是健全协商民主机制?\"\n",
    "initial_docs = vectorstore.similarity_search(query, k=15)\n",
    "reranked_docs = rerank_documents(query, initial_docs)\n",
    "\n",
    "# print first 3 initial documents\n",
    "print(\"Top initial documents:\")\n",
    "for i, doc in enumerate(initial_docs[:3]):\n",
    "    print(f\"\\nDocument {i+1}:\")\n",
    "    print(doc.page_content[:200] + \"...\")  # Print first 200 characters of each document\n",
    "\n",
    "\n",
    "# Print results\n",
    "print(f\"Query: {query}\\n\")\n",
    "print(\"Top reranked documents:\")\n",
    "for i, doc in enumerate(reranked_docs):\n",
    "    print(f\"\\nDocument {i+1}:\")\n",
    "    print(doc.page_content[:200] + \"...\")  # Print first 200 characters of each document"
   ]
  }
 ],
 "metadata": {
  "kernelspec": {
   "display_name": ".venv",
   "language": "python",
   "name": "python3"
  },
  "language_info": {
   "codemirror_mode": {
    "name": "ipython",
    "version": 3
   },
   "file_extension": ".py",
   "mimetype": "text/x-python",
   "name": "python",
   "nbconvert_exporter": "python",
   "pygments_lexer": "ipython3",
   "version": "3.11.9"
  }
 },
 "nbformat": 4,
 "nbformat_minor": 2
}
