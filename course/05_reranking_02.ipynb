{
 "cells": [
  {
   "cell_type": "markdown",
   "metadata": {},
   "source": [
    "# 智能重新排序 -- 使用Reranker Model对每个检索块的相关性进行评分\n",
    "\n",
    "智能重新排序的目的是帮助我们从海量文档中快速找到最相关的信息。它就像是给文档们排个队，让最有用的信息排在最前面。\n",
    "\n",
    "### 工作原理\n",
    "在RAG系统中，我们通常会先找到一些可能相关的文档，但这些文档的相关性可能不够精确。智能重新排序就是对这些文档进行再次评估，找出真正和我们的需求紧密相关的文档。\n",
    "\n",
    "### 重排系统通常包括以下步骤：\n",
    "- 初始检索器：使用向量搜索技术，找到一些可能相关的文档。\n",
    "- 评分机制：使用Reranker Model给这些文档进行打分，看看它们和我们的需求有多匹配。\n",
    "- 排序和选择逻辑：根据分数重新排序这些文档，挑选出最相关的几个。"
   ]
  },
  {
   "cell_type": "markdown",
   "metadata": {},
   "source": [
    "首先，我们需要导入一些Python库，并从环境变量文件中加载必要的配置。"
   ]
  },
  {
   "cell_type": "code",
   "execution_count": 29,
   "metadata": {
    "ExecuteTime": {
     "end_time": "2024-08-31T03:16:41.502421500Z",
     "start_time": "2024-08-31T03:16:13.191251Z"
    }
   },
   "outputs": [],
   "source": [
    "import os\n",
    "from dotenv import load_dotenv\n",
    "load_dotenv()\n",
    "\n",
    "from typing import List, Dict, Any\n",
    "from FlagEmbedding import FlagReranker\n",
    "from qdrant_client import QdrantClient\n",
    "\n",
    "from langchain_qdrant import QdrantVectorStore\n",
    "from langchain_community.document_loaders import Docx2txtLoader\n",
    "from langchain_text_splitters import RecursiveCharacterTextSplitter\n",
    "from langchain.embeddings import HuggingFaceBgeEmbeddings"
   ]
  },
  {
   "cell_type": "markdown",
   "metadata": {},
   "source": [
    "#### 第一步：加载文档并提取文档内容\n",
    "使用Docx2txtLoader类加载文档，这个类需要docx2txt库支持。"
   ]
  },
  {
   "cell_type": "code",
   "execution_count": 30,
   "metadata": {},
   "outputs": [],
   "source": [
    "path = \"../data/二十届三中全会.docx\"\n",
    "loader = Docx2txtLoader(path)\n",
    "documents = loader.load()"
   ]
  },
  {
   "cell_type": "markdown",
   "metadata": {},
   "source": [
    "#### 第二步：文本分块\n",
    "将文本切割成小块"
   ]
  },
  {
   "cell_type": "code",
   "execution_count": 31,
   "metadata": {},
   "outputs": [],
   "source": [
    "text_splitter = RecursiveCharacterTextSplitter(\n",
    "    chunk_size=500,\n",
    "    chunk_overlap=100,\n",
    "    length_function=len\n",
    ")\n",
    "docs = text_splitter.split_documents(documents)\n",
    "for doc in docs:\n",
    "    doc.page_content = doc.page_content.replace('\\t', ' ') "
   ]
  },
  {
   "cell_type": "markdown",
   "metadata": {},
   "source": [
    "#### 第三步：创建向量数据库\n",
    "这次换成FlagEmbedding和HuggingFaceBgeEmbeddings来创建向量表示，并存储在本地的Qdrant数据库中。"
   ]
  },
  {
   "cell_type": "code",
   "execution_count": 42,
   "metadata": {},
   "outputs": [
    {
     "name": "stderr",
     "output_type": "stream",
     "text": [
      "08/31/2024 20:43:29 - [INFO] -sentence_transformers.SentenceTransformer->>>    Load pretrained SentenceTransformer: BAAI/bge-small-zh\n"
     ]
    }
   ],
   "source": [
    "model_name = \"BAAI/bge-small-zh\"\n",
    "model_kwargs = {'device': 'cuda'}\n",
    "# 计算余弦相似度\n",
    "encode_kwargs = {'normalize_embeddings': True} \n",
    "embeddings = HuggingFaceBgeEmbeddings(\n",
    "    model_name=model_name,\n",
    "    model_kwargs=model_kwargs,\n",
    "    encode_kwargs=encode_kwargs\n",
    ")\n",
    "vectorstore = QdrantVectorStore.from_documents(\n",
    "    docs,\n",
    "    embeddings,\n",
    "    url=\"http://localhost:6333/\",\n",
    "    prefer_grpc=True,\n",
    "    collection_name=\"005\"\n",
    ")"
   ]
  },
  {
   "cell_type": "markdown",
   "metadata": {},
   "source": [
    "如果已经创建了向量数据库，就直接通过下面的代码直接连接Qdrant向量数据库"
   ]
  },
  {
   "cell_type": "code",
   "execution_count": 46,
   "metadata": {},
   "outputs": [],
   "source": [
    "client = QdrantClient(url=\"http://localhost:6333/\")\n",
    "embeddings = MiniMaxEmbeddings()\n",
    "vectorstore = QdrantVectorStore(\n",
    "    client=client,\n",
    "    collection_name=\"005\",\n",
    "    embedding=embeddings\n",
    ")"
   ]
  },
  {
   "cell_type": "markdown",
   "metadata": {},
   "source": [
    "#### 第四步：创建重排系统\n",
    "创建一个重排系统，使用BAAI/bge-reranker-large 模型来评估文档的相关性进行评分，并返回最相关的文档。"
   ]
  },
  {
   "cell_type": "code",
   "execution_count": 54,
   "metadata": {},
   "outputs": [],
   "source": [
    "def rerank_documents(query: str, initial_top_n: int = 15, top_n: int = 3) -> List[Dict[str, Any]]:\n",
    "    # 先使用向量相似搜索找到一些可能相关的文档\n",
    "    initial_docs = vectorstore.similarity_search(query, k=initial_top_n)\n",
    "    # 将这些文档和查询语句组成一个列表，每个元素是一个包含查询和文档内容的列表\n",
    "    sentence_pairs = [[query, passage.page_content] for passage in initial_docs]\n",
    "\n",
    "    # 使用FlagReranker模型对这些文档进行重新排序;将use_fp16设置为True可以提高计算速度，但性能略有下降\n",
    "    reranker = FlagReranker('BAAI/bge-reranker-large', use_fp16=True)\n",
    "    # 计算每个文档的得分\n",
    "    scores = reranker.compute_score(sentence_pairs)\n",
    "\n",
    "    # 将得分和文档内容组成一个字典列表\n",
    "    score_document = [{\"score\": score, \"content\": content} for score, content in zip(scores, initial_docs)]\n",
    "    # 根据得分对文档进行排序，并返回前top_n个文档\n",
    "    result = sorted(score_document, key=lambda x: x['score'], reverse=True)[:top_n]\n",
    "    \n",
    "    return result\n"
   ]
  },
  {
   "cell_type": "markdown",
   "metadata": {},
   "source": [
    "#### 执行输出结果\n",
    "最后，我们用一个实际的问题来测试我们的系统，看看它是否能够找到最相关的文档。"
   ]
  },
  {
   "cell_type": "code",
   "execution_count": 55,
   "metadata": {},
   "outputs": [
    {
     "name": "stderr",
     "output_type": "stream",
     "text": [
      "d:\\dev\\pythonFile\\RAG_course\\.venv\\Lib\\site-packages\\huggingface_hub\\file_download.py:1150: FutureWarning: `resume_download` is deprecated and will be removed in version 1.0.0. Downloads always resume when possible. If you want to force a new download, use `force_download=True`.\n",
      "  warnings.warn(\n"
     ]
    },
    {
     "data": {
      "text/plain": [
       "[{'score': 4.18359375,\n",
       "  'content': Document(metadata={'source': '../data/二十届三中全会.docx', '_id': '5f5614d1-ed7c-4630-bb98-7439f0792744', '_collection_name': '005'}, page_content='（29）加强人民当家作主制度建设。坚持好、完善好、运行好人民代表大会制度。健全人大对行政机关、监察机关、审判机关、检察机关监督制度，完善监督法及其实施机制，强化人大预算决算审查监督和国有资产管理、政府债务管理监督。健全人大议事规则和论证、评估、评议、听证制度。丰富人大代表联系人民群众的内容和形式。健全吸纳民意、汇集民智工作机制。发挥工会、共青团、妇联等群团组织联系服务群众的桥梁纽带作用。\\n\\n（30）健全协商民主机制。发挥人民政协作为专门协商机构作用，健全深度协商互动、意见充分表达、广泛凝聚共识的机制，加强人民政协反映社情民意、联系群众、服务人民机制建设。完善人民政协民主监督机制。\\n\\n完善协商民主体系，丰富协商方式，健全政党协商、人大协商、政府协商、政协协商、人民团体协商、基层协商以及社会组织协商制度化平台，加强各种协商渠道协同配合。健全协商于决策之前和决策实施之中的落实机制，完善协商成果采纳、落实、反馈机制。')},\n",
       " {'score': -0.61572265625,\n",
       "  'content': Document(metadata={'source': '../data/二十届三中全会.docx', '_id': '0a0efd15-20a3-49a0-a113-f88b5e733316', '_collection_name': '005'}, page_content='（31）健全基层民主制度。健全基层党组织领导的基层群众自治机制，完善基层民主制度体系和工作体系，拓宽基层各类组织和群众有序参与基层治理渠道。完善办事公开制度。健全以职工代表大会为基本形式的企事业单位民主管理制度，完善企业职工参与管理的有效形式。\\n\\n（32）完善大统战工作格局。完善发挥统一战线凝聚人心、汇聚力量政治作用的政策举措。坚持好、发展好、完善好中国新型政党制度。更好发挥党外人士作用，健全党外代表人士队伍建设制度。制定民族团结进步促进法，健全铸牢中华民族共同体意识制度机制，增强中华民族凝聚力。系统推进我国宗教中国化，加强宗教事务治理法治化。完善党外知识分子和新的社会阶层人士政治引领机制。全面构建亲清政商关系，健全促进非公有制经济健康发展、非公有制经济人士健康成长工作机制。完善港澳台和侨务工作机制。\\n\\n九、完善中国特色社会主义法治体系\\n\\n法治是中国式现代化的重要保障。必须全面贯彻实施宪法，维护宪法权威，协同推进立法、执法、司法、守法各环节改革，健全法律面前人人平等保障机制，弘扬社会主义法治精神，维护社会公平正义，全面推进国家各方面工作法治化。')},\n",
       " {'score': -1.0341796875,\n",
       "  'content': Document(metadata={'source': '../data/二十届三中全会.docx', '_id': '78b9e2e2-1e5c-4917-8016-dc4f783c82ff', '_collection_name': '005'}, page_content='——聚焦构建高水平社会主义市场经济体制，充分发挥市场在资源配置中的决定性作用，更好发挥政府作用，坚持和完善社会主义基本经济制度，推进高水平科技自立自强，推进高水平对外开放，建成现代化经济体系，加快构建新发展格局，推动高质量发展。\\n\\n——聚焦发展全过程人民民主，坚持党的领导、人民当家作主、依法治国有机统一，推动人民当家作主制度更加健全、协商民主广泛多层制度化发展、中国特色社会主义法治体系更加完善，社会主义法治国家建设达到更高水平。\\n\\n——聚焦建设社会主义文化强国，坚持马克思主义在意识形态领域指导地位的根本制度，健全文化事业、文化产业发展体制机制，推动文化繁荣，丰富人民精神文化生活，提升国家文化软实力和中华文化影响力。\\n\\n——聚焦提高人民生活品质，完善收入分配和就业制度，健全社会保障体系，增强基本公共服务均衡性和可及性，推动人的全面发展、全体人民共同富裕取得更为明显的实质性进展。\\n\\n——聚焦建设美丽中国，加快经济社会发展全面绿色转型，健全生态环境治理体系，推进生态优先、节约集约、绿色低碳发展，促进人与自然和谐共生。')}]"
      ]
     },
     "execution_count": 55,
     "metadata": {},
     "output_type": "execute_result"
    }
   ],
   "source": [
    "query = \"什么是健全协商民主机制?\"\n",
    "reranked_docs = rerank_documents(query)\n",
    "reranked_docs"
   ]
  }
 ],
 "metadata": {
  "kernelspec": {
   "display_name": ".venv",
   "language": "python",
   "name": "python3"
  },
  "language_info": {
   "codemirror_mode": {
    "name": "ipython",
    "version": 3
   },
   "file_extension": ".py",
   "mimetype": "text/x-python",
   "name": "python",
   "nbconvert_exporter": "python",
   "pygments_lexer": "ipython3",
   "version": "3.11.9"
  }
 },
 "nbformat": 4,
 "nbformat_minor": 2
}
